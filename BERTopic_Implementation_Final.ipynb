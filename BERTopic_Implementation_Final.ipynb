{
  "cells": [
    {
      "cell_type": "markdown",
      "metadata": {
        "id": "view-in-github",
        "colab_type": "text"
      },
      "source": [
        "<a href=\"https://colab.research.google.com/github/gracek904/twitter-io/blob/main/BERTopic_Implementation_Final.ipynb\" target=\"_parent\"><img src=\"https://colab.research.google.com/assets/colab-badge.svg\" alt=\"Open In Colab\"/></a>"
      ]
    },
    {
      "cell_type": "markdown",
      "metadata": {
        "id": "LKh_IlZ7Upge"
      },
      "source": [
        "This code installs the required Python libraries for performing topic modeling using the BERTopic framework."
      ]
    },
    {
      "cell_type": "code",
      "execution_count": null,
      "metadata": {
        "collapsed": true,
        "id": "5rEm2oE0JzH4"
      },
      "outputs": [],
      "source": [
        "!pip install bertopic\n",
        "!pip install sentence-transformers\n",
        "!pip install umap-learn\n",
        "!pip install hdbscan"
      ]
    },
    {
      "cell_type": "markdown",
      "metadata": {
        "id": "R663rmkMVAJp"
      },
      "source": [
        "Importing required libraries."
      ]
    },
    {
      "cell_type": "code",
      "execution_count": null,
      "metadata": {
        "id": "ef0c0URdJJZM"
      },
      "outputs": [],
      "source": [
        "import pandas as pd\n",
        "import numpy as np\n",
        "import nltk\n",
        "from nltk.corpus import stopwords\n",
        "from nltk.tokenize import word_tokenize\n",
        "from nltk.tokenize.treebank import TreebankWordDetokenizer\n",
        "import re\n",
        "import string\n",
        "from nltk.stem import PorterStemmer\n",
        "from nltk.tokenize import TweetTokenizer\n",
        "from bertopic import BERTopic\n",
        "from sklearn.feature_extraction.text import CountVectorizer"
      ]
    },
    {
      "cell_type": "markdown",
      "metadata": {
        "id": "2c99uTDIVkqi"
      },
      "source": [
        "Downloading necessary NLTK data"
      ]
    },
    {
      "cell_type": "code",
      "execution_count": null,
      "metadata": {
        "collapsed": true,
        "id": "WvREfA_FJOO4"
      },
      "outputs": [],
      "source": [
        "# Download necessary NLTK data\n",
        "nltk.download('punkt')\n",
        "nltk.download('stopwords')\n",
        "nltk.download('words')"
      ]
    },
    {
      "cell_type": "markdown",
      "metadata": {
        "id": "S-rAGHOqVpYK"
      },
      "source": [
        "This code segment is part of the preprocessing pipeline for cleaning and tokenizing tweets. Here's what each part does:\n",
        "\n",
        "**1. remove_hyperlinks_marks_styles(tweet)**\n",
        "This function takes a tweet as input and removes unnecessary elements such as retweet markers, hyperlinks, and hashtags. It uses regular expressions (re.sub) for pattern matching and substitution.\n",
        "\n",
        "**2. TweetTokenizer Initialization**\n",
        "\n",
        "This initializes an instance of NLTK's TweetTokenizer, which is specifically designed for tokenizing tweets. The parameters control how the tokenizer behaves:\n",
        "- preserve_case=False: Converts all text to lowercase for consistency (e.g., \"Hello\" becomes \"hello\")\n",
        "\n",
        "- strip_handles=True: Removes Twitter handles (e.g., \"@user\").\n",
        "\n",
        "- reduce_len=True: Reduces elongated words to their base form by collapsing repeated characters (e.g., \"soooo\" becomes \"soo\").\n",
        "\n",
        "**3. tokenize_tweet(tweet) Function**\n",
        "\n",
        "This function takes a tweet as input and uses the TweetTokenizer instance to split it into individual tokens (words or symbols).\n",
        "\n"
      ]
    },
    {
      "cell_type": "code",
      "execution_count": null,
      "metadata": {
        "id": "RoK4_VhdJQ1R"
      },
      "outputs": [],
      "source": [
        "# Define preprocessing functions\n",
        "def remove_hyperlinks_marks_styles(tweet):\n",
        "    new_tweet = re.sub(r'^RT[\\s]+', '', tweet)\n",
        "    new_tweet = re.sub(r'https?:\\/\\/.*[\\r\\n]*', '', new_tweet)\n",
        "    new_tweet = re.sub(r'#', '', new_tweet)\n",
        "    return new_tweet\n",
        "\n",
        "tokenizer = TweetTokenizer(preserve_case=False, strip_handles=True, reduce_len=True)\n",
        "\n",
        "def tokenize_tweet(tweet):\n",
        "    return tokenizer.tokenize(tweet)"
      ]
    },
    {
      "cell_type": "markdown",
      "metadata": {
        "id": "YgFgQfBtXQ0m"
      },
      "source": [
        "This code segment is part of a preprocessing pipeline for cleaning, tokenizing, and stemming tweets to prepare them for analysis (e.g., topic modeling). Here's a detailed explanation of each function and its purpose:\n",
        "\n",
        "**1. stopwords_english, additional_stopwords, and punctuation**:\n",
        "\n",
        "Covers a list of common English stopwords and addtional stopwords specific to tweets (rt, https, http, amp, etc).\n",
        "\n",
        "**2.remove_stopwords_punctuations(tweet_tokens):**\n",
        "\n",
        "Cleans the tokenized words.\n",
        "\n",
        "**3. get_stem(tweets_clean):**\n",
        "\n",
        "Applies stemming to each word in the cleaned tokens using the Porter Stemmer. Stemming reduces words to their root form.\n",
        "\n",
        "**4. process_tweet(tweet):**\n",
        "\n",
        "Processes a single tweet through multiple steps: - Remove hyperlinks, retweet markers, and hashtags\n",
        "- Tokenize the tweet\n",
        "- Clean the tokens\n",
        "- Reconstruct the cleaned tokens into a sentence\n",
        "\n",
        "**5. contains_follow(tweet):**\n",
        "\n",
        "Checks if the tweet contains any variation of the word \"follow\""
      ]
    },
    {
      "cell_type": "code",
      "execution_count": null,
      "metadata": {
        "id": "AGKpETIOJWLS"
      },
      "outputs": [],
      "source": [
        "stopwords_english = stopwords.words('english')\n",
        "additional_stopwords = ['rt', 'http', 'https', 'amp', '//']\n",
        "punctuations = string.punctuation\n",
        "\n",
        "def remove_stopwords_punctuations(tweet_tokens):\n",
        "    tweets_clean = []\n",
        "    for word in tweet_tokens:\n",
        "        if word not in additional_stopwords and \"http\" not in word and word.isalpha() and word not in stopwords_english and word not in punctuations:\n",
        "            tweets_clean.append(word)\n",
        "    return tweets_clean\n",
        "\n",
        "stemmer = PorterStemmer()\n",
        "\n",
        "def get_stem(tweets_clean):\n",
        "    return [stemmer.stem(word) for word in tweets_clean]\n",
        "\n",
        "def process_tweet(tweet):\n",
        "    processed_tweet = remove_hyperlinks_marks_styles(tweet)\n",
        "    tweet_tokens = tokenize_tweet(processed_tweet)\n",
        "    tweets_clean = remove_stopwords_punctuations(tweet_tokens)\n",
        "    final_tweet = TreebankWordDetokenizer().detokenize(tweets_clean)\n",
        "    return final_tweet\n",
        "\n",
        "def contains_follow(tweet):\n",
        "    return 1 if any(word in tweet for word in [\"follow\", \"following\", \"followe\", \"followed\"]) else 0"
      ]
    },
    {
      "cell_type": "markdown",
      "metadata": {
        "id": "NSe-vnZxa1Pf"
      },
      "source": [
        "This code segment is responsible for loading, filtering, preprocessing, and preparing the tweets for analysis. Here are the steps:\n",
        "\n",
        "**1. Load the Data**:\n",
        "\n",
        "Reads data from CSV file\n",
        "\n",
        "**2. Filter the Data:**\n",
        "\n",
        "Filters the DataFrame to include only relevant tweets (english tweets, excludes retweets)\n",
        "\n",
        "**3. Extract Tweet Text:**\n",
        "\n",
        "Converts the tweet_text column of the filtered DataFrame into a list of strings\n",
        "\n",
        "**4. Preprocess Tweets**:\n",
        "\n",
        "Applies the process_tweet() function to each tweet in the list to clean and preprocess it.\n",
        "\n",
        "**5. Filter Tweets Based on \"Follow\" Words**:\n",
        "\n",
        "Filters out tweets that contian \"follow\" behavior"
      ]
    },
    {
      "cell_type": "code",
      "execution_count": null,
      "metadata": {
        "id": "wOgEQbsMJgw5"
      },
      "outputs": [],
      "source": [
        "# Load and preprocess the data\n",
        "df = pd.read_csv('/content/iran.csv')\n",
        "df = df[(df.tweet_language == 'en') & (df.is_retweet == 0)]\n",
        "\n",
        "#getting random sample of tweets - comment out if not needed\n",
        "#sampled_df = df.sample(frac=0.10, random_state=42)\n",
        "\n",
        "#only the sample tweets\n",
        "sampled_tweets = sampled_df['tweet_text']\n",
        "\n",
        "tweets = df.tweet_text.tolist()\n",
        "\n",
        "processed_tweets = [process_tweet(tweet) for tweet in tweets]\n",
        "final_tweets = [tweet for tweet in processed_tweets if not contains_follow(tweet)]"
      ]
    },
    {
      "cell_type": "code",
      "execution_count": null,
      "metadata": {
        "id": "Ppg9SxYDzGBa"
      },
      "outputs": [],
      "source": [
        "print(len(final_tweets))"
      ]
    },
    {
      "cell_type": "markdown",
      "metadata": {
        "id": "AZ6cyypgc2qj"
      },
      "source": [
        "This code segment applies the BERTopic model to the preprocessed tweets (final_tweets) to perform topic modeling. By default, BERTopic uses transformer-based embeddings (via senttences-transformers) to represent textual data in high-dimensional space. It applies dimensionality reduction (via UMAP) and clustering (via HDBSCAN) to group similar tweets into topics. Though this implementation uses the default settings, you can customize paramters like the embedding modek, vectorizer modek, nr_topics, and more to tailor the topic modeling process.\n",
        "\n",
        "The `topics, probs = topic_model.fit_transform(final_tweets)` line fits the BERTopic model to the data set `final tweets` and assigns each tweet to a topic. The input is a list of preprocessed tweets and the output is a list of integers where each integer represents the topic assigned to a corresponding tweet. `probs` is a list of probabilities indicating how strongly each tweet belongs to its assigned topic. Higher probabilities indicate higher confidence in the assignment.\n",
        "\n",
        "How it works internally:\n",
        "\n",
        "**1. Text Embedding:**\n",
        "\n",
        "Each tweet in final_tweets is converted into a numerical vector using a transformer-based embedding model (e.g., SBERT or other sentence-transformers models).\n",
        "\n",
        "These embeddings capture semantic meaning, allowing similar tweets to have similar representations.\n",
        "\n",
        "**2. Dimensionality Reduction:**\n",
        "\n",
        "UMAP reduces the high-dimensional embeddings into a lower-dimensional space for efficient clustering.\n",
        "\n",
        "**3. Clustering:**\n",
        "\n",
        "HDBSCAN groups similar embeddings into clusters, where each cluster represents a topic.\n",
        "\n",
        "Tweets that don't fit well into any cluster are labeled as noise (Topic -1).\n",
        "\n",
        "**4. Topic Representation:**\n",
        "\n",
        "For each cluster (topic), BERTopic identifies the most representative words based on their importance within that cluster."
      ]
    },
    {
      "cell_type": "code",
      "execution_count": null,
      "metadata": {
        "id": "uksEEV05JkGp"
      },
      "outputs": [],
      "source": [
        "\"\"\"\n",
        "# Create a custom vectorizer\n",
        "vectorizer_model = CountVectorizer(ngram_range=(1, 2), stop_words=\"english\", max_features=10000)\n",
        "\n",
        "# Initialize and fit BERTopic model\n",
        "topic_model = BERTopic(vectorizer_model=vectorizer_model, min_topic_size=20, nr_topics=\"auto\")\n",
        "topics, probs = topic_model.fit_transform(final_tweets)\n",
        "\"\"\"\n",
        "\n",
        "topic_model = BERTopic()\n",
        "topics, probs = topic_model.fit_transform(final_tweets)\n"
      ]
    },
    {
      "cell_type": "code",
      "execution_count": null,
      "metadata": {
        "collapsed": true,
        "id": "Qiw8XBP1UP9k"
      },
      "outputs": [],
      "source": [
        "topic_info = topic_model.get_topic_info()\n",
        "print(topic_info)\n",
        "topic_model.get_topics()"
      ]
    },
    {
      "cell_type": "markdown",
      "metadata": {
        "id": "CCIWQDTs5y_u"
      },
      "source": [
        "This code uses a zero-shot classification model (facebook/bart-large-mnli) from the Hugging Face Transformers library to identify race-related topics generated by BERTopic. For each topic (excluding outliers), the model evaluates the topic's representative keywords (topic name) and classifies it as either \"race-related\" or \"not race-related\" based on semantic meaning. Only topics classified as \"race-related\" with a confidence score greater than 0.90 are retained. This approach enables automated, LLM-based filtering of relevant topics without relying on predefined keyword lists."
      ]
    },
    {
      "cell_type": "code",
      "execution_count": null,
      "metadata": {
        "colab": {
          "background_save": true,
          "base_uri": "https://localhost:8080/"
        },
        "id": "aEZboZqQ5yJn",
        "outputId": "5b869d6c-1ef3-4d54-c167-077b9d14b550"
      },
      "outputs": [
        {
          "name": "stderr",
          "output_type": "stream",
          "text": [
            "Device set to use cpu\n"
          ]
        }
      ],
      "source": [
        "from transformers import pipeline\n",
        "\n",
        "#loading zero-shot classification model\n",
        "classifier = pipeline(\"zero-shot-classification\", model=\"facebook/bart-large-mnli\")\n",
        "\n",
        "#getting all topics and their representative words (from BERTopic)\n",
        "topic_info = topic_model.get_topic_info()\n",
        "topic_words = {row['Topic']: row['Name'] for _, row in topic_info.iterrows() if row['Topic'] != -1}  # exclude -1 (outliers)\n",
        "\n",
        "#classifying each topic using zero-shot classification\n",
        "llm_filtered_topics = []\n",
        "for topic_id, description in topic_words.items():\n",
        "    result = classifier(description, candidate_labels=[\"race-related\", \"not race-related\"])\n",
        "    label = result['labels'][0]\n",
        "    confidence = result[\"scores\"][0]\n",
        "    if label == \"race-related\" and confidence > 0.90:\n",
        "        llm_filtered_topics.append((topic_id, description))\n",
        "\n",
        "\n",
        "\n"
      ]
    },
    {
      "cell_type": "markdown",
      "source": [],
      "metadata": {
        "id": "ygMSgaR-yA4B"
      }
    },
    {
      "cell_type": "markdown",
      "source": [
        "This section takes the race-related topics previously identified using zero-shot classification and prepares them for visualization and interpreation. Here's a break-down:\n",
        "1. **Filter and Sort by Prevalence**: The code filters the DataFrame to keep only race-related topic IDs, sorts them in descending order based on how frequently each topic appears in the dataset, and keeps only the top 10 most prevalent race-related topics.\n",
        "2. **Extract Topic IDs and Names**: This part of the code converts the top 10 topic IDs into a list for later use in visualization. It also creates a dictionary mapping each topic ID to its human-readable name or representative keywords (Name), for clarity in output and reference.\n",
        "3. **Print Identified Race-Related Topics**\n",
        "4. **Assign Custom Labels for Visualization**"
      ],
      "metadata": {
        "id": "RMDpIhcGwzMz"
      }
    },
    {
      "cell_type": "code",
      "execution_count": null,
      "metadata": {
        "id": "sNefKzlhGOC7",
        "collapsed": true
      },
      "outputs": [],
      "source": [
        "# Sort topics by prevalence (count)\n",
        "filtered_topic_df = topic_info[topic_info['Topic'].isin([t[0] for t in llm_filtered_topics])]\n",
        "top_llm_race_topics = filtered_topic_df.nlargest(10, 'Count')\n",
        "\n",
        "# Get final topic IDs and names\n",
        "top_10_llm_topic_ids = top_llm_race_topics['Topic'].tolist()\n",
        "topic_names = dict(zip(top_llm_race_topics['Topic'], top_llm_race_topics['Name']))\n",
        "\n",
        "print(\"\\nTop 10 Race-Related Topics (LLM-Filtered):\")\n",
        "for topic_id in top_10_llm_topic_ids:\n",
        "    print(f\"Topic {topic_id}: {topic_names[topic_id]}\")\n",
        "\n",
        "#Creating custom labels for figure\n",
        "custom_labels = {\n",
        "     3: \"Black Beauty & Empowerment\",\n",
        "     8: \"Kobe Bryant\",\n",
        "     11: \"Public Racism Incidents\",\n",
        "     13: \"Xenophobia\",\n",
        "     14: \"Slavery & Reparations\",\n",
        "     15: \"Race & COVID-19\",\n",
        "     16: \"Black History Month\",\n",
        "     17: \"Racism in Politics\",\n",
        "     19: \"Black Women Achievements\",\n",
        "     20: \"African Pride & Unity\"\n",
        " }\n",
        "\n",
        "topic_model.set_topic_labels(custom_labels)"
      ]
    },
    {
      "cell_type": "code",
      "execution_count": null,
      "metadata": {
        "id": "quQECDjwAnVc",
        "collapsed": true
      },
      "outputs": [],
      "source": [
        "# Visualize LLM-filtered race-related topics\n",
        "fig = topic_model.visualize_barchart(\n",
        "    topics=top_10_llm_topic_ids,\n",
        "    n_words=5,\n",
        "    custom_labels=True,\n",
        "    title=\"<b>Top 10 Race-Related Topics (LLM Classified)</b>\"\n",
        ")\n",
        "\n",
        "fig.update_layout(height=700, bargap=0.3)\n",
        "for annotation in fig.layout.annotations:\n",
        "    annotation.font.size = 14\n",
        "fig.update_yaxes(tickfont=dict(size=9))\n",
        "fig.show()\n"
      ]
    },
    {
      "cell_type": "markdown",
      "metadata": {
        "id": "umTkwQ78xjXt"
      },
      "source": [
        "CSV with tweets mapped to BERtopic topic"
      ]
    },
    {
      "cell_type": "code",
      "execution_count": null,
      "metadata": {
        "colab": {
          "base_uri": "https://localhost:8080/"
        },
        "id": "3yqOAiBWxl7E",
        "outputId": "ed1632da-1f1f-463a-ee7a-06cad54abe05"
      },
      "outputs": [
        {
          "name": "stdout",
          "output_type": "stream",
          "text": [
            "Saved race_related_tweets.csv with tweet, topic ID, and custom label.\n"
          ]
        }
      ],
      "source": [
        "import pandas as pd\n",
        "\n",
        "# Create a DataFrame of tweets and their assigned topics\n",
        "tweet_topic_df = pd.DataFrame({\n",
        "    \"tweet\": final_tweets,\n",
        "    \"topic\": topics\n",
        "})\n",
        "\n",
        "# Only keep tweets whose topic is in the top 10 LLM-identified race-related topics\n",
        "top_race_tweets_df = tweet_topic_df[tweet_topic_df[\"topic\"].isin(top_10_llm_topic_ids)].copy()\n",
        "\n",
        "# Add custom labels\n",
        "custom_labels = {\n",
        "     3: \"Black Beauty & Empowerment\",\n",
        "     8: \"Kobe Bryant\",\n",
        "     11: \"Public Racism Incidents\",\n",
        "     13: \"Xenophobia\",\n",
        "     14: \"Slavery & Reparations\",\n",
        "     15: \"Race & COVID-19\",\n",
        "     16: \"Black History Month\",\n",
        "     17: \"Racism in Politics\",\n",
        "     19: \"Black Women Achievements\",\n",
        "     20: \"African Pride & Unity\"\n",
        " }\n",
        "\n",
        "top_race_tweets_df[\"topic_label\"] = top_race_tweets_df[\"topic\"].map(custom_labels)\n",
        "\n",
        "# Save to CSV\n",
        "top_race_tweets_df.to_csv(\"russia_race_related_tweets.csv\", index=False, encoding=\"utf-8\")\n",
        "\n",
        "print(\"Saved race_related_tweets.csv with tweet, topic ID, and custom label.\")\n"
      ]
    },
    {
      "cell_type": "markdown",
      "source": [
        "Every code segment below is for the keyword approach -- **no longer used**"
      ],
      "metadata": {
        "id": "8m0WClq_ySFY"
      }
    },
    {
      "cell_type": "markdown",
      "metadata": {
        "id": "Fu3zMTFNiv7U"
      },
      "source": [
        "This code segment identifies the top race-related topics in your dataset, assigns custom labels to those topics, and visualizes them using a bar chart. Here is an explanation of each part:\n",
        "\n",
        "**1. Define Race-Related Keywords:**\n",
        "\n",
        "This part creates a comprehensive list of race-related keywords that will be used to filter topics. These keywords are matched against topic names to identify topics related to race.\n",
        "\n",
        "**2. Get Topic Information:**\n",
        "\n",
        "Retrieves metadata about all generated topics include Topic (Topic ID), Count (Number of tweets assigned to each topic), and Name (Representative words for each topic).\n",
        "\n",
        "**3. Filter Race-Related Topics **\n",
        "\n",
        "This section identifies topics that include any of the race-related keywords.\n",
        "\n",
        "**4. Select Top X Most Prevalent Race-Related Topics**\n",
        "\n",
        "This section sorts the filtered race-related topics by their prevalence (i.e. the number of tweets assigned to each topic) and selects the top X amount.\n",
        "\n",
        "**5. Display the Top Topics**\n",
        "\n",
        "This section prints the top X most prevalent race-related topics along with their IDs, counts, and representative words.\n",
        "\n",
        "**6. Define Custom Labels for Topics**\n",
        "\n",
        "This section creates a dictionary with keys are topic ID's adn values as descriptive labels. These labels replace the default numeric IDs in visualizations.\n",
        "\n",
        "**7. Assign Custom Labels**\n",
        "\n",
        "This section updates the BERTopic model to use custome labels instead of default numeric IDs or generated names.\n",
        "\n",
        "**8. Visualize Topics with Custom Labels**\n",
        "\n",
        "This section creates an interactive bar chart visualization with top X more prevalent topics. Here are the parameters:\n",
        "- `top_n_topics=10`: Displays only the top 10 topics by prevalence.\n",
        "- `n_words=5`: Shows the top five representative words for each topic.\n",
        "- `custom_labels=True`: Uses your custom labels for the topics.\n",
        "- `title`: Adds a descriptive title to the chart.\n",
        "\n",
        "The output is a bar chart where each bar represents a topic, the length of each bar indicates its prevalence (# of tweets), and the y-axis shows custom labels for topics."
      ]
    },
    {
      "cell_type": "code",
      "execution_count": null,
      "metadata": {
        "colab": {
          "base_uri": "https://localhost:8080/",
          "height": 1000
        },
        "id": "MEjffoRcCwrq",
        "outputId": "b5a80d66-9f27-4ec2-998e-e61320b04fdf"
      },
      "outputs": [
        {
          "name": "stdout",
          "output_type": "stream",
          "text": [
            "Top 10 Most Prevalent Race-Related Topics:\n",
            "     Topic  Count                                               Name\n",
            "0       -1  23783                         -1_racism_regime_oil_white\n",
            "2        1   1097                         1_lgbt_lgbtq_diversity_gay\n",
            "6        5    598  5_blackgirlsrock_blackisbeautiful_blackandprou...\n",
            "19      18    316  18_trumpmeltdown_trumpisatraitor_idiot_trumpis...\n",
            "47      46    188              46_racist_racism_racistinchief_blacks\n",
            "48      47    185    47_racism_kickitout_racist_blacktwittermovement\n",
            "65      64    144                   64_ghana_africa_nigeria_africans\n",
            "74      73    130                    73_millions_asia_jobless_latino\n",
            "76      75    128                        75_house_tramp_white_mattis\n",
            "167    166     66  166_blackhistorymonth_blacksnews_blacklove_bla...\n",
            "\n",
            "Top 10 Race-Related Topic IDs and Names:\n",
            "Topic -1: -1_racism_regime_oil_white\n",
            "Topic 1: 1_lgbt_lgbtq_diversity_gay\n",
            "Topic 5: 5_blackgirlsrock_blackisbeautiful_blackandproud_blackgirlmagic\n",
            "Topic 18: 18_trumpmeltdown_trumpisatraitor_idiot_trumpisanationaldisgrace\n",
            "Topic 46: 46_racist_racism_racistinchief_blacks\n",
            "Topic 47: 47_racism_kickitout_racist_blacktwittermovement\n",
            "Topic 64: 64_ghana_africa_nigeria_africans\n",
            "Topic 73: 73_millions_asia_jobless_latino\n",
            "Topic 75: 75_house_tramp_white_mattis\n",
            "Topic 166: 166_blackhistorymonth_blacksnews_blacklove_blackempowerment\n"
          ]
        },
        {
          "data": {
            "text/html": [
              "<html>\n",
              "<head><meta charset=\"utf-8\" /></head>\n",
              "<body>\n",
              "    <div>            <script src=\"https://cdnjs.cloudflare.com/ajax/libs/mathjax/2.7.5/MathJax.js?config=TeX-AMS-MML_SVG\"></script><script type=\"text/javascript\">if (window.MathJax && window.MathJax.Hub && window.MathJax.Hub.Config) {window.MathJax.Hub.Config({SVG: {font: \"STIX-Web\"}});}</script>                <script type=\"text/javascript\">window.PlotlyConfig = {MathJaxConfig: 'local'};</script>\n",
              "        <script charset=\"utf-8\" src=\"https://cdn.plot.ly/plotly-2.35.2.min.js\"></script>                <div id=\"fccbac27-cdc2-42b9-9332-efaa098a73d4\" class=\"plotly-graph-div\" style=\"height:700px; width:1000px;\"></div>            <script type=\"text/javascript\">                                    window.PLOTLYENV=window.PLOTLYENV || {};                                    if (document.getElementById(\"fccbac27-cdc2-42b9-9332-efaa098a73d4\")) {                    Plotly.newPlot(                        \"fccbac27-cdc2-42b9-9332-efaa098a73d4\",                        [{\"marker\":{\"color\":\"#D55E00\"},\"orientation\":\"h\",\"x\":[0.0012421180906058117,0.0012567441333819168,0.0012606800861344918,0.0012850489014316303,0.0012875357401551642],\"y\":[\"palestinian  \",\"white  \",\"oil  \",\"regime  \",\"racism  \"],\"type\":\"bar\",\"xaxis\":\"x\",\"yaxis\":\"y\"},{\"marker\":{\"color\":\"#0072B2\"},\"orientation\":\"h\",\"x\":[0.013691017032686286,0.019089277818783806,0.02491600013532793,0.028292159151180597,0.02986431750740352],\"y\":[\"loveislove  \",\"gay  \",\"diversity  \",\"lgbtq  \",\"lgbt  \"],\"type\":\"bar\",\"xaxis\":\"x2\",\"yaxis\":\"y2\"},{\"marker\":{\"color\":\"#CC79A7\"},\"orientation\":\"h\",\"x\":[0.02080829697379695,0.02098565299193798,0.02135656928658023,0.022868362480928935,0.025523280926624016],\"y\":[\"melanin  \",\"blackgirlmagic  \",\"blackandproud  \",\"blackisbeautiful  \",\"blackgirlsrock  \"],\"type\":\"bar\",\"xaxis\":\"x3\",\"yaxis\":\"y3\"},{\"marker\":{\"color\":\"#E69F00\"},\"orientation\":\"h\",\"x\":[0.011324430726294937,0.012132241992978339,0.012674970379061271,0.017549958986392528,0.023897903669601855],\"y\":[\"trumpisunwell  \",\"trumpisanationaldisgrace  \",\"idiot  \",\"trumpisatraitor  \",\"trumpmeltdown  \"],\"type\":\"bar\",\"xaxis\":\"x4\",\"yaxis\":\"y4\"},{\"marker\":{\"color\":\"#56B4E9\"},\"orientation\":\"h\",\"x\":[0.009682339034705612,0.010391359969709493,0.011538620525914653,0.01161772683253725,0.03237991303501919],\"y\":[\"racists  \",\"blacks  \",\"racistinchief  \",\"racism  \",\"racist  \"],\"type\":\"bar\",\"xaxis\":\"x5\",\"yaxis\":\"y5\"},{\"marker\":{\"color\":\"#009E73\"},\"orientation\":\"h\",\"x\":[0.010079674720636431,0.010245144837929489,0.012451456139688713,0.013742076090761963,0.027194171502613343],\"y\":[\"saynotoracism  \",\"blacktwittermovement  \",\"racist  \",\"kickitout  \",\"racism  \"],\"type\":\"bar\",\"xaxis\":\"x6\",\"yaxis\":\"y6\"},{\"marker\":{\"color\":\"#F0E442\"},\"orientation\":\"h\",\"x\":[0.017047673167333365,0.02186584290936323,0.02417956863340516,0.03448129680975338,0.04437291946025498],\"y\":[\"nigerian  \",\"africans  \",\"nigeria  \",\"africa  \",\"ghana  \"],\"type\":\"bar\",\"xaxis\":\"x7\",\"yaxis\":\"y7\"},{\"marker\":{\"color\":\"#D55E00\"},\"orientation\":\"h\",\"x\":[0.09450769852348635,0.10343523743423642,0.10514485832778128,0.10647443443276873,0.10976716858740446],\"y\":[\"africa  \",\"latino  \",\"jobless  \",\"asia  \",\"millions  \"],\"type\":\"bar\",\"xaxis\":\"x8\",\"yaxis\":\"y8\"},{\"marker\":{\"color\":\"#0072B2\"},\"orientation\":\"h\",\"x\":[0.010320777103606906,0.010529129164274502,0.024186535824071317,0.02751180004113258,0.038463502457074895],\"y\":[\"advisers  \",\"mattis  \",\"white  \",\"tramp  \",\"house  \"],\"type\":\"bar\",\"xaxis\":\"x9\",\"yaxis\":\"y9\"},{\"marker\":{\"color\":\"#CC79A7\"},\"orientation\":\"h\",\"x\":[0.01397690646520095,0.014126083858484184,0.015613978646536386,0.018202945911014557,0.025517584385423477],\"y\":[\"black  \",\"blackempowerment  \",\"blacklove  \",\"blacksnews  \",\"blackhistorymonth  \"],\"type\":\"bar\",\"xaxis\":\"x10\",\"yaxis\":\"y10\"}],                        {\"template\":{\"data\":{\"barpolar\":[{\"marker\":{\"line\":{\"color\":\"white\",\"width\":0.5},\"pattern\":{\"fillmode\":\"overlay\",\"size\":10,\"solidity\":0.2}},\"type\":\"barpolar\"}],\"bar\":[{\"error_x\":{\"color\":\"#2a3f5f\"},\"error_y\":{\"color\":\"#2a3f5f\"},\"marker\":{\"line\":{\"color\":\"white\",\"width\":0.5},\"pattern\":{\"fillmode\":\"overlay\",\"size\":10,\"solidity\":0.2}},\"type\":\"bar\"}],\"carpet\":[{\"aaxis\":{\"endlinecolor\":\"#2a3f5f\",\"gridcolor\":\"#C8D4E3\",\"linecolor\":\"#C8D4E3\",\"minorgridcolor\":\"#C8D4E3\",\"startlinecolor\":\"#2a3f5f\"},\"baxis\":{\"endlinecolor\":\"#2a3f5f\",\"gridcolor\":\"#C8D4E3\",\"linecolor\":\"#C8D4E3\",\"minorgridcolor\":\"#C8D4E3\",\"startlinecolor\":\"#2a3f5f\"},\"type\":\"carpet\"}],\"choropleth\":[{\"colorbar\":{\"outlinewidth\":0,\"ticks\":\"\"},\"type\":\"choropleth\"}],\"contourcarpet\":[{\"colorbar\":{\"outlinewidth\":0,\"ticks\":\"\"},\"type\":\"contourcarpet\"}],\"contour\":[{\"colorbar\":{\"outlinewidth\":0,\"ticks\":\"\"},\"colorscale\":[[0.0,\"#0d0887\"],[0.1111111111111111,\"#46039f\"],[0.2222222222222222,\"#7201a8\"],[0.3333333333333333,\"#9c179e\"],[0.4444444444444444,\"#bd3786\"],[0.5555555555555556,\"#d8576b\"],[0.6666666666666666,\"#ed7953\"],[0.7777777777777778,\"#fb9f3a\"],[0.8888888888888888,\"#fdca26\"],[1.0,\"#f0f921\"]],\"type\":\"contour\"}],\"heatmapgl\":[{\"colorbar\":{\"outlinewidth\":0,\"ticks\":\"\"},\"colorscale\":[[0.0,\"#0d0887\"],[0.1111111111111111,\"#46039f\"],[0.2222222222222222,\"#7201a8\"],[0.3333333333333333,\"#9c179e\"],[0.4444444444444444,\"#bd3786\"],[0.5555555555555556,\"#d8576b\"],[0.6666666666666666,\"#ed7953\"],[0.7777777777777778,\"#fb9f3a\"],[0.8888888888888888,\"#fdca26\"],[1.0,\"#f0f921\"]],\"type\":\"heatmapgl\"}],\"heatmap\":[{\"colorbar\":{\"outlinewidth\":0,\"ticks\":\"\"},\"colorscale\":[[0.0,\"#0d0887\"],[0.1111111111111111,\"#46039f\"],[0.2222222222222222,\"#7201a8\"],[0.3333333333333333,\"#9c179e\"],[0.4444444444444444,\"#bd3786\"],[0.5555555555555556,\"#d8576b\"],[0.6666666666666666,\"#ed7953\"],[0.7777777777777778,\"#fb9f3a\"],[0.8888888888888888,\"#fdca26\"],[1.0,\"#f0f921\"]],\"type\":\"heatmap\"}],\"histogram2dcontour\":[{\"colorbar\":{\"outlinewidth\":0,\"ticks\":\"\"},\"colorscale\":[[0.0,\"#0d0887\"],[0.1111111111111111,\"#46039f\"],[0.2222222222222222,\"#7201a8\"],[0.3333333333333333,\"#9c179e\"],[0.4444444444444444,\"#bd3786\"],[0.5555555555555556,\"#d8576b\"],[0.6666666666666666,\"#ed7953\"],[0.7777777777777778,\"#fb9f3a\"],[0.8888888888888888,\"#fdca26\"],[1.0,\"#f0f921\"]],\"type\":\"histogram2dcontour\"}],\"histogram2d\":[{\"colorbar\":{\"outlinewidth\":0,\"ticks\":\"\"},\"colorscale\":[[0.0,\"#0d0887\"],[0.1111111111111111,\"#46039f\"],[0.2222222222222222,\"#7201a8\"],[0.3333333333333333,\"#9c179e\"],[0.4444444444444444,\"#bd3786\"],[0.5555555555555556,\"#d8576b\"],[0.6666666666666666,\"#ed7953\"],[0.7777777777777778,\"#fb9f3a\"],[0.8888888888888888,\"#fdca26\"],[1.0,\"#f0f921\"]],\"type\":\"histogram2d\"}],\"histogram\":[{\"marker\":{\"pattern\":{\"fillmode\":\"overlay\",\"size\":10,\"solidity\":0.2}},\"type\":\"histogram\"}],\"mesh3d\":[{\"colorbar\":{\"outlinewidth\":0,\"ticks\":\"\"},\"type\":\"mesh3d\"}],\"parcoords\":[{\"line\":{\"colorbar\":{\"outlinewidth\":0,\"ticks\":\"\"}},\"type\":\"parcoords\"}],\"pie\":[{\"automargin\":true,\"type\":\"pie\"}],\"scatter3d\":[{\"line\":{\"colorbar\":{\"outlinewidth\":0,\"ticks\":\"\"}},\"marker\":{\"colorbar\":{\"outlinewidth\":0,\"ticks\":\"\"}},\"type\":\"scatter3d\"}],\"scattercarpet\":[{\"marker\":{\"colorbar\":{\"outlinewidth\":0,\"ticks\":\"\"}},\"type\":\"scattercarpet\"}],\"scattergeo\":[{\"marker\":{\"colorbar\":{\"outlinewidth\":0,\"ticks\":\"\"}},\"type\":\"scattergeo\"}],\"scattergl\":[{\"marker\":{\"colorbar\":{\"outlinewidth\":0,\"ticks\":\"\"}},\"type\":\"scattergl\"}],\"scattermapbox\":[{\"marker\":{\"colorbar\":{\"outlinewidth\":0,\"ticks\":\"\"}},\"type\":\"scattermapbox\"}],\"scatterpolargl\":[{\"marker\":{\"colorbar\":{\"outlinewidth\":0,\"ticks\":\"\"}},\"type\":\"scatterpolargl\"}],\"scatterpolar\":[{\"marker\":{\"colorbar\":{\"outlinewidth\":0,\"ticks\":\"\"}},\"type\":\"scatterpolar\"}],\"scatter\":[{\"fillpattern\":{\"fillmode\":\"overlay\",\"size\":10,\"solidity\":0.2},\"type\":\"scatter\"}],\"scatterternary\":[{\"marker\":{\"colorbar\":{\"outlinewidth\":0,\"ticks\":\"\"}},\"type\":\"scatterternary\"}],\"surface\":[{\"colorbar\":{\"outlinewidth\":0,\"ticks\":\"\"},\"colorscale\":[[0.0,\"#0d0887\"],[0.1111111111111111,\"#46039f\"],[0.2222222222222222,\"#7201a8\"],[0.3333333333333333,\"#9c179e\"],[0.4444444444444444,\"#bd3786\"],[0.5555555555555556,\"#d8576b\"],[0.6666666666666666,\"#ed7953\"],[0.7777777777777778,\"#fb9f3a\"],[0.8888888888888888,\"#fdca26\"],[1.0,\"#f0f921\"]],\"type\":\"surface\"}],\"table\":[{\"cells\":{\"fill\":{\"color\":\"#EBF0F8\"},\"line\":{\"color\":\"white\"}},\"header\":{\"fill\":{\"color\":\"#C8D4E3\"},\"line\":{\"color\":\"white\"}},\"type\":\"table\"}]},\"layout\":{\"annotationdefaults\":{\"arrowcolor\":\"#2a3f5f\",\"arrowhead\":0,\"arrowwidth\":1},\"autotypenumbers\":\"strict\",\"coloraxis\":{\"colorbar\":{\"outlinewidth\":0,\"ticks\":\"\"}},\"colorscale\":{\"diverging\":[[0,\"#8e0152\"],[0.1,\"#c51b7d\"],[0.2,\"#de77ae\"],[0.3,\"#f1b6da\"],[0.4,\"#fde0ef\"],[0.5,\"#f7f7f7\"],[0.6,\"#e6f5d0\"],[0.7,\"#b8e186\"],[0.8,\"#7fbc41\"],[0.9,\"#4d9221\"],[1,\"#276419\"]],\"sequential\":[[0.0,\"#0d0887\"],[0.1111111111111111,\"#46039f\"],[0.2222222222222222,\"#7201a8\"],[0.3333333333333333,\"#9c179e\"],[0.4444444444444444,\"#bd3786\"],[0.5555555555555556,\"#d8576b\"],[0.6666666666666666,\"#ed7953\"],[0.7777777777777778,\"#fb9f3a\"],[0.8888888888888888,\"#fdca26\"],[1.0,\"#f0f921\"]],\"sequentialminus\":[[0.0,\"#0d0887\"],[0.1111111111111111,\"#46039f\"],[0.2222222222222222,\"#7201a8\"],[0.3333333333333333,\"#9c179e\"],[0.4444444444444444,\"#bd3786\"],[0.5555555555555556,\"#d8576b\"],[0.6666666666666666,\"#ed7953\"],[0.7777777777777778,\"#fb9f3a\"],[0.8888888888888888,\"#fdca26\"],[1.0,\"#f0f921\"]]},\"colorway\":[\"#636efa\",\"#EF553B\",\"#00cc96\",\"#ab63fa\",\"#FFA15A\",\"#19d3f3\",\"#FF6692\",\"#B6E880\",\"#FF97FF\",\"#FECB52\"],\"font\":{\"color\":\"#2a3f5f\"},\"geo\":{\"bgcolor\":\"white\",\"lakecolor\":\"white\",\"landcolor\":\"white\",\"showlakes\":true,\"showland\":true,\"subunitcolor\":\"#C8D4E3\"},\"hoverlabel\":{\"align\":\"left\"},\"hovermode\":\"closest\",\"mapbox\":{\"style\":\"light\"},\"paper_bgcolor\":\"white\",\"plot_bgcolor\":\"white\",\"polar\":{\"angularaxis\":{\"gridcolor\":\"#EBF0F8\",\"linecolor\":\"#EBF0F8\",\"ticks\":\"\"},\"bgcolor\":\"white\",\"radialaxis\":{\"gridcolor\":\"#EBF0F8\",\"linecolor\":\"#EBF0F8\",\"ticks\":\"\"}},\"scene\":{\"xaxis\":{\"backgroundcolor\":\"white\",\"gridcolor\":\"#DFE8F3\",\"gridwidth\":2,\"linecolor\":\"#EBF0F8\",\"showbackground\":true,\"ticks\":\"\",\"zerolinecolor\":\"#EBF0F8\"},\"yaxis\":{\"backgroundcolor\":\"white\",\"gridcolor\":\"#DFE8F3\",\"gridwidth\":2,\"linecolor\":\"#EBF0F8\",\"showbackground\":true,\"ticks\":\"\",\"zerolinecolor\":\"#EBF0F8\"},\"zaxis\":{\"backgroundcolor\":\"white\",\"gridcolor\":\"#DFE8F3\",\"gridwidth\":2,\"linecolor\":\"#EBF0F8\",\"showbackground\":true,\"ticks\":\"\",\"zerolinecolor\":\"#EBF0F8\"}},\"shapedefaults\":{\"line\":{\"color\":\"#2a3f5f\"}},\"ternary\":{\"aaxis\":{\"gridcolor\":\"#DFE8F3\",\"linecolor\":\"#A2B1C6\",\"ticks\":\"\"},\"baxis\":{\"gridcolor\":\"#DFE8F3\",\"linecolor\":\"#A2B1C6\",\"ticks\":\"\"},\"bgcolor\":\"white\",\"caxis\":{\"gridcolor\":\"#DFE8F3\",\"linecolor\":\"#A2B1C6\",\"ticks\":\"\"}},\"title\":{\"x\":0.05},\"xaxis\":{\"automargin\":true,\"gridcolor\":\"#EBF0F8\",\"linecolor\":\"#EBF0F8\",\"ticks\":\"\",\"title\":{\"standoff\":15},\"zerolinecolor\":\"#EBF0F8\",\"zerolinewidth\":2},\"yaxis\":{\"automargin\":true,\"gridcolor\":\"#EBF0F8\",\"linecolor\":\"#EBF0F8\",\"ticks\":\"\",\"title\":{\"standoff\":15},\"zerolinecolor\":\"#EBF0F8\",\"zerolinewidth\":2}}},\"xaxis\":{\"anchor\":\"y\",\"domain\":[0.0,0.175],\"showgrid\":true},\"yaxis\":{\"anchor\":\"x\",\"domain\":[0.7555555555555555,1.0],\"showgrid\":true,\"tickfont\":{\"size\":9}},\"xaxis2\":{\"anchor\":\"y2\",\"domain\":[0.275,0.45],\"showgrid\":true},\"yaxis2\":{\"anchor\":\"x2\",\"domain\":[0.7555555555555555,1.0],\"showgrid\":true,\"tickfont\":{\"size\":9}},\"xaxis3\":{\"anchor\":\"y3\",\"domain\":[0.55,0.7250000000000001],\"showgrid\":true},\"yaxis3\":{\"anchor\":\"x3\",\"domain\":[0.7555555555555555,1.0],\"showgrid\":true,\"tickfont\":{\"size\":9}},\"xaxis4\":{\"anchor\":\"y4\",\"domain\":[0.825,1.0],\"showgrid\":true},\"yaxis4\":{\"anchor\":\"x4\",\"domain\":[0.7555555555555555,1.0],\"showgrid\":true,\"tickfont\":{\"size\":9}},\"xaxis5\":{\"anchor\":\"y5\",\"domain\":[0.0,0.175],\"showgrid\":true},\"yaxis5\":{\"anchor\":\"x5\",\"domain\":[0.37777777777777777,0.6222222222222222],\"showgrid\":true,\"tickfont\":{\"size\":9}},\"xaxis6\":{\"anchor\":\"y6\",\"domain\":[0.275,0.45],\"showgrid\":true},\"yaxis6\":{\"anchor\":\"x6\",\"domain\":[0.37777777777777777,0.6222222222222222],\"showgrid\":true,\"tickfont\":{\"size\":9}},\"xaxis7\":{\"anchor\":\"y7\",\"domain\":[0.55,0.7250000000000001],\"showgrid\":true},\"yaxis7\":{\"anchor\":\"x7\",\"domain\":[0.37777777777777777,0.6222222222222222],\"showgrid\":true,\"tickfont\":{\"size\":9}},\"xaxis8\":{\"anchor\":\"y8\",\"domain\":[0.825,1.0],\"showgrid\":true},\"yaxis8\":{\"anchor\":\"x8\",\"domain\":[0.37777777777777777,0.6222222222222222],\"showgrid\":true,\"tickfont\":{\"size\":9}},\"xaxis9\":{\"anchor\":\"y9\",\"domain\":[0.0,0.175],\"showgrid\":true},\"yaxis9\":{\"anchor\":\"x9\",\"domain\":[0.0,0.24444444444444446],\"showgrid\":true,\"tickfont\":{\"size\":9}},\"xaxis10\":{\"anchor\":\"y10\",\"domain\":[0.275,0.45],\"showgrid\":true},\"yaxis10\":{\"anchor\":\"x10\",\"domain\":[0.0,0.24444444444444446],\"showgrid\":true,\"tickfont\":{\"size\":9}},\"xaxis11\":{\"anchor\":\"y11\",\"domain\":[0.55,0.7250000000000001],\"showgrid\":true},\"yaxis11\":{\"anchor\":\"x11\",\"domain\":[0.0,0.24444444444444446],\"showgrid\":true,\"tickfont\":{\"size\":9}},\"xaxis12\":{\"anchor\":\"y12\",\"domain\":[0.825,1.0],\"showgrid\":true},\"yaxis12\":{\"anchor\":\"x12\",\"domain\":[0.0,0.24444444444444446],\"showgrid\":true,\"tickfont\":{\"size\":9}},\"annotations\":[{\"font\":{\"size\":14},\"showarrow\":false,\"text\":\"Race Topic -1\",\"x\":0.0875,\"xanchor\":\"center\",\"xref\":\"paper\",\"y\":1.0,\"yanchor\":\"bottom\",\"yref\":\"paper\"},{\"font\":{\"size\":14},\"showarrow\":false,\"text\":\"Race Topic 1\",\"x\":0.36250000000000004,\"xanchor\":\"center\",\"xref\":\"paper\",\"y\":1.0,\"yanchor\":\"bottom\",\"yref\":\"paper\"},{\"font\":{\"size\":14},\"showarrow\":false,\"text\":\"Race Topic 5\",\"x\":0.6375000000000001,\"xanchor\":\"center\",\"xref\":\"paper\",\"y\":1.0,\"yanchor\":\"bottom\",\"yref\":\"paper\"},{\"font\":{\"size\":14},\"showarrow\":false,\"text\":\"Race Topic 18\",\"x\":0.9125,\"xanchor\":\"center\",\"xref\":\"paper\",\"y\":1.0,\"yanchor\":\"bottom\",\"yref\":\"paper\"},{\"font\":{\"size\":14},\"showarrow\":false,\"text\":\"Race Topic 46\",\"x\":0.0875,\"xanchor\":\"center\",\"xref\":\"paper\",\"y\":0.6222222222222222,\"yanchor\":\"bottom\",\"yref\":\"paper\"},{\"font\":{\"size\":14},\"showarrow\":false,\"text\":\"Race Topic 47\",\"x\":0.36250000000000004,\"xanchor\":\"center\",\"xref\":\"paper\",\"y\":0.6222222222222222,\"yanchor\":\"bottom\",\"yref\":\"paper\"},{\"font\":{\"size\":14},\"showarrow\":false,\"text\":\"Race Topic 64\",\"x\":0.6375000000000001,\"xanchor\":\"center\",\"xref\":\"paper\",\"y\":0.6222222222222222,\"yanchor\":\"bottom\",\"yref\":\"paper\"},{\"font\":{\"size\":14},\"showarrow\":false,\"text\":\"Race Topic 73\",\"x\":0.9125,\"xanchor\":\"center\",\"xref\":\"paper\",\"y\":0.6222222222222222,\"yanchor\":\"bottom\",\"yref\":\"paper\"},{\"font\":{\"size\":14},\"showarrow\":false,\"text\":\"Race Topic 75\",\"x\":0.0875,\"xanchor\":\"center\",\"xref\":\"paper\",\"y\":0.24444444444444446,\"yanchor\":\"bottom\",\"yref\":\"paper\"},{\"font\":{\"size\":14},\"showarrow\":false,\"text\":\"Race Topic 166\",\"x\":0.36250000000000004,\"xanchor\":\"center\",\"xref\":\"paper\",\"y\":0.24444444444444446,\"yanchor\":\"bottom\",\"yref\":\"paper\"}],\"title\":{\"font\":{\"size\":22,\"color\":\"Black\"},\"text\":\"\\u003cb\\u003eTop 10 Race-Related Topics\\u003c\\u002fb\\u003e\",\"x\":0.5,\"xanchor\":\"center\",\"yanchor\":\"top\"},\"hoverlabel\":{\"font\":{\"size\":16,\"family\":\"Rockwell\"},\"bgcolor\":\"white\"},\"showlegend\":false,\"width\":1000,\"height\":700,\"bargap\":0.3},                        {\"responsive\": true}                    ).then(function(){\n",
              "                            \n",
              "var gd = document.getElementById('fccbac27-cdc2-42b9-9332-efaa098a73d4');\n",
              "var x = new MutationObserver(function (mutations, observer) {{\n",
              "        var display = window.getComputedStyle(gd).display;\n",
              "        if (!display || display === 'none') {{\n",
              "            console.log([gd, 'removed!']);\n",
              "            Plotly.purge(gd);\n",
              "            observer.disconnect();\n",
              "        }}\n",
              "}});\n",
              "\n",
              "// Listen for the removal of the full notebook cells\n",
              "var notebookContainer = gd.closest('#notebook-container');\n",
              "if (notebookContainer) {{\n",
              "    x.observe(notebookContainer, {childList: true});\n",
              "}}\n",
              "\n",
              "// Listen for the clearing of the current output cell\n",
              "var outputEl = gd.closest('.output');\n",
              "if (outputEl) {{\n",
              "    x.observe(outputEl, {childList: true});\n",
              "}}\n",
              "\n",
              "                        })                };                            </script>        </div>\n",
              "</body>\n",
              "</html>"
            ]
          },
          "metadata": {},
          "output_type": "display_data"
        }
      ],
      "source": [
        "# Define race-related keywords\n",
        "race_keywords = [\n",
        "    'race', 'racial', 'racist', 'ethnicity', 'ethnic', 'black', 'white', 'asian', 'latino', 'latina', 'latinx',\n",
        "    'hispanic', 'african', 'native american', 'indigenous', 'biracial', 'multiracial', 'minority',\n",
        "    'people of color', 'bipoc', 'discrimination', 'prejudice', 'stereotype', 'diversity', 'inclusion',\n",
        "    'equity', 'privilege', 'microaggression', 'systemic racism', 'institutional racism', 'colorism',\n",
        "    'cultural appropriation', 'xenophobia', 'antisemitism', 'islamophobia', 'racial profiling',\n",
        "    'segregation', 'integration', 'affirmative action', 'intersectionality', 'marginalization',\n",
        "    'oppression', 'tokenism', 'assimilation', 'acculturation', 'racial identity', 'racial bias',\n",
        "    'hate crime', 'racial slur', 'racial justice', 'racial equality', 'racial equity', 'racial sensitivity',\n",
        "    'cultural competence', 'racial trauma', 'racial reconciliation', 'racial disparity',\n",
        "    'racial discrimination', 'racial harassment', 'racial stereotyping', 'racial representation',\n",
        "    'racial diversity', 'racial inclusion'\n",
        "]\n",
        "\n",
        "# Get the topic information\n",
        "topic_info = topic_model.get_topic_info()\n",
        "\n",
        "# Function to check if a topic is race-related\n",
        "def is_race_related(topic_name):\n",
        "    return any(keyword in topic_name.lower() for keyword in race_keywords)\n",
        "\n",
        "# Filter race-related topics\n",
        "race_related_topics = topic_info[topic_info['Name'].apply(is_race_related)]\n",
        "\n",
        "# Sort by Count (prevalence) and select top 10\n",
        "top_10_race_topics = race_related_topics.nlargest(10, 'Count')\n",
        "\n",
        "# Display the top 10 race-related topics\n",
        "print(\"Top 10 Most Prevalent Race-Related Topics:\")\n",
        "print(top_10_race_topics[['Topic', 'Count', 'Name']])\n",
        "\n",
        "# Extract just the topic IDs from the filtered dataframe\n",
        "top_10_race_topic_ids = top_10_race_topics['Topic'].tolist()\n",
        "\n",
        "# Now define custom labels specifically for the top 10 race-related topics\n",
        "# First, create a dictionary to map each topic to its original name for reference\n",
        "topic_names = dict(zip(top_10_race_topics['Topic'], top_10_race_topics['Name']))\n",
        "\n",
        "print(\"\\nTop 10 Race-Related Topic IDs and Names:\")\n",
        "for topic_id in top_10_race_topic_ids:\n",
        "    print(f\"Topic {topic_id}: {topic_names[topic_id]}\")\n",
        "\n",
        "# Now you can create custom labels specifically for these top 10 topics\n",
        "# Replace these with your desired labels after reviewing the topic contents\n",
        "custom_labels = {}\n",
        "for topic_id in top_10_race_topic_ids:\n",
        "    # Default label is just \"Race Topic X\" - replace these with meaningful labels\n",
        "    custom_labels[topic_id] = f\"Race Topic {topic_id}\"\n",
        "\n",
        "# Example: If you know the contents of each topic, you can manually assign labels like this:\n",
        "# (Uncomment and modify as needed after seeing what topics appear in your top 10)\n",
        "\"\"\"\n",
        "custom_labels = {\n",
        "    3: \"African Heritage and Culture\",\n",
        "    14: \"Political Discourse on Race\",\n",
        "    24: \"Black Excellence and Representation\",\n",
        "    # Add labels for all other topics in your top_10_race_topic_ids list\n",
        "}\n",
        "\"\"\"\n",
        "\n",
        "# Assign custom labels to the topics\n",
        "topic_model.set_topic_labels(custom_labels)\n",
        "\n",
        "# After creating the bar chart visualization\n",
        "fig = topic_model.visualize_barchart(\n",
        "    topics=top_10_race_topic_ids,  # Only show the filtered race topics\n",
        "    n_words=5,                     # Number of words per topic\n",
        "    custom_labels=True,            # Use your custom labels\n",
        "    title=\"<b>Top 10 Race-Related Topics</b>\"  # Add a descriptive title\n",
        ")\n",
        "\n",
        "# Increase space between bars\n",
        "fig.update_layout(\n",
        "    height=700,                     # Increase overall height\n",
        "    bargap=0.3                      # Increase gap between bars\n",
        ")\n",
        "\n",
        "# Make the keyword text smaller\n",
        "for annotation in fig.layout.annotations:\n",
        "    annotation.font.size = 14  # Reduce font size (default is usually 12 or 14)\n",
        "\n",
        "# Also adjust the topic label font if needed\n",
        "fig.update_yaxes(\n",
        "    tickfont=dict(size=9)  # Adjust the size of the topic labels (your custom labels)\n",
        ")\n",
        "\n",
        "# Show the updated bar chart\n",
        "fig.show()"
      ]
    }
  ],
  "metadata": {
    "colab": {
      "provenance": [],
      "authorship_tag": "ABX9TyOe+yGE4UYSZPN7mjSPbPir",
      "include_colab_link": true
    },
    "kernelspec": {
      "display_name": "Python 3",
      "name": "python3"
    },
    "language_info": {
      "name": "python"
    }
  },
  "nbformat": 4,
  "nbformat_minor": 0
}